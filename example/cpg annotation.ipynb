{
 "cells": [
  {
   "cell_type": "markdown",
   "id": "7604692a",
   "metadata": {},
   "source": [
    "# 基于EPIC.hg38.manifest.tsv的注释"
   ]
  },
  {
   "cell_type": "code",
   "execution_count": 8,
   "id": "051ee6fa",
   "metadata": {},
   "outputs": [],
   "source": [
    "import csv\n",
    "\n",
    "# 读取txt文件中的值\n",
    "with open('cpg.txt', 'r') as txt_file:\n",
    "    txt_values = set(txt_file.read().splitlines())\n",
    "\n",
    "# 遍历tsv文件，检查第九列是否包含在txt文件中的值\n",
    "matching_rows = []\n",
    "\n",
    "with open('EPIC.hg38.manifest.tsv', 'r') as tsv_file:\n",
    "    tsv_reader = csv.reader(tsv_file, delimiter='\\t')\n",
    "\n",
    "    # 读取第一行并加入到matching_rows\n",
    "    header = next(tsv_reader)\n",
    "    matching_rows.append(header)\n",
    "\n",
    "    # 遍历剩余行，检查第九列是否匹配\n",
    "    for values in tsv_reader:\n",
    "        if values[4] in txt_values:\n",
    "            matching_rows.append(values)\n",
    "\n",
    "# 将匹配的行写入新的csv文件\n",
    "with open('cpg_annotation_1.csv', 'w', newline='') as output_file:\n",
    "    csv_writer = csv.writer(output_file)\n",
    "    csv_writer.writerows(matching_rows)\n"
   ]
  },
  {
   "cell_type": "markdown",
   "id": "d5a0dca6",
   "metadata": {},
   "source": [
    "# 基于EPIC.hg38.manifest.gencode.v36.tsvd"
   ]
  },
  {
   "cell_type": "code",
   "execution_count": 11,
   "id": "f6d93293",
   "metadata": {},
   "outputs": [],
   "source": [
    "import csv\n",
    "\n",
    "# 读取txt文件中的值\n",
    "with open('cpg.txt', 'r') as txt_file:\n",
    "    txt_values = set(txt_file.read().splitlines())\n",
    "\n",
    "# 遍历tsv文件，检查第九列是否包含在txt文件中的值\n",
    "matching_rows = []\n",
    "\n",
    "with open('EPIC.hg38.manifest.gencode.v36.tsv', 'r') as tsv_file:\n",
    "    tsv_reader = csv.reader(tsv_file, delimiter='\\t')\n",
    "\n",
    "    # 读取第一行并加入到matching_rows\n",
    "    header = next(tsv_reader)\n",
    "    matching_rows.append(header)\n",
    "\n",
    "    # 遍历剩余行，检查第九列是否匹配\n",
    "    for values in tsv_reader:\n",
    "        if values[4] in txt_values:\n",
    "            matching_rows.append(values)\n",
    "\n",
    "# 将匹配的行写入新的csv文件\n",
    "with open('cpg_annotation_2.csv', 'w', newline='') as output_file:\n",
    "    csv_writer = csv.writer(output_file)\n",
    "    csv_writer.writerows(matching_rows)\n",
    "\n"
   ]
  }
 ],
 "metadata": {
  "kernelspec": {
   "display_name": "Python 3 (ipykernel)",
   "language": "python",
   "name": "python3"
  },
  "language_info": {
   "codemirror_mode": {
    "name": "ipython",
    "version": 3
   },
   "file_extension": ".py",
   "mimetype": "text/x-python",
   "name": "python",
   "nbconvert_exporter": "python",
   "pygments_lexer": "ipython3",
   "version": "3.9.7"
  }
 },
 "nbformat": 4,
 "nbformat_minor": 5
}
